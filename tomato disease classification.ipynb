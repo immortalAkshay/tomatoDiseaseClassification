{
 "cells": [
  {
   "cell_type": "markdown",
   "metadata": {
    "id": "ppmSJdtzny7t"
   },
   "source": [
    "# Convolution Neural Network (Tomato leaf disease detection)"
   ]
  },
  {
   "cell_type": "markdown",
   "metadata": {
    "id": "euE2N8ZDny4Q"
   },
   "source": [
    "### 1. Importing necessary libraries"
   ]
  },
  {
   "cell_type": "code",
   "execution_count": 85,
   "metadata": {
    "id": "CCaUTkGunZZ1"
   },
   "outputs": [],
   "source": [
    "import tensorflow as tf\n",
    "from keras.preprocessing.image import ImageDataGenerator"
   ]
  },
  {
   "cell_type": "code",
   "execution_count": 86,
   "metadata": {
    "colab": {
     "base_uri": "https://localhost:8080/",
     "height": 35
    },
    "executionInfo": {
     "elapsed": 19,
     "status": "ok",
     "timestamp": 1636778844156,
     "user": {
      "displayName": "Akshita Saxena",
      "photoUrl": "https://lh3.googleusercontent.com/a-/AOh14Gi19hR8jFQzzcsPCpC1DBmN63S4HcJsr7ye-9A=s64",
      "userId": "02141134520636945112"
     },
     "user_tz": -330
    },
    "id": "RlfFfsZdntmT",
    "outputId": "7ded94c6-666e-44fb-dd82-45fbb0946af4"
   },
   "outputs": [
    {
     "data": {
      "text/plain": [
       "'2.7.0'"
      ]
     },
     "execution_count": 86,
     "metadata": {},
     "output_type": "execute_result"
    }
   ],
   "source": [
    "tf.__version__"
   ]
  },
  {
   "cell_type": "markdown",
   "metadata": {
    "id": "9gs2RNjKn-ON"
   },
   "source": [
    "### 2. Read the Data and Preprocess the data"
   ]
  },
  {
   "cell_type": "code",
   "execution_count": 87,
   "metadata": {
    "colab": {
     "base_uri": "https://localhost:8080/",
     "height": 35
    },
    "executionInfo": {
     "elapsed": 397,
     "status": "ok",
     "timestamp": 1636779036237,
     "user": {
      "displayName": "Akshita Saxena",
      "photoUrl": "https://lh3.googleusercontent.com/a-/AOh14Gi19hR8jFQzzcsPCpC1DBmN63S4HcJsr7ye-9A=s64",
      "userId": "02141134520636945112"
     },
     "user_tz": -330
    },
    "id": "eaQ1MJH8n9OE",
    "outputId": "5a9d40a0-cefc-47eb-c827-c7a9a3ab66fd"
   },
   "outputs": [
    {
     "data": {
      "text/plain": [
       "'C:\\\\Users\\\\Akshay\\\\Downloads'"
      ]
     },
     "execution_count": 87,
     "metadata": {},
     "output_type": "execute_result"
    }
   ],
   "source": [
    "pwd"
   ]
  },
  {
   "cell_type": "code",
   "execution_count": 88,
   "metadata": {
    "colab": {
     "base_uri": "https://localhost:8080/"
    },
    "executionInfo": {
     "elapsed": 399,
     "status": "ok",
     "timestamp": 1636779880750,
     "user": {
      "displayName": "Akshita Saxena",
      "photoUrl": "https://lh3.googleusercontent.com/a-/AOh14Gi19hR8jFQzzcsPCpC1DBmN63S4HcJsr7ye-9A=s64",
      "userId": "02141134520636945112"
     },
     "user_tz": -330
    },
    "id": "W39CW8E-ojDE",
    "outputId": "6d3ef783-d234-4801-c2ad-4283a47ef6ec"
   },
   "outputs": [
    {
     "name": "stdout",
     "output_type": "stream",
     "text": [
      "Found 18345 images belonging to 10 classes.\n"
     ]
    }
   ],
   "source": [
    "train_datagen = ImageDataGenerator(rescale=1./255, shear_range=0.2, zoom_range=0.2, horizontal_flip=True)\n",
    "training_set = train_datagen.flow_from_directory(r'C:\\Users\\Akshay\\Downloads\\Tomato_data\\New Plant Diseases Dataset(Augmented)\\train', \n",
    "                                                 target_size = (64,64),\n",
    "                                                 batch_size = 128,\n",
    "                                                 class_mode = 'categorical')"
   ]
  },
  {
   "cell_type": "code",
   "execution_count": 89,
   "metadata": {
    "scrolled": true
   },
   "outputs": [
    {
     "name": "stdout",
     "output_type": "stream",
     "text": [
      "{'Tomato___Bacterial_spot': 0, 'Tomato___Early_blight': 1, 'Tomato___Late_blight': 2, 'Tomato___Leaf_Mold': 3, 'Tomato___Septoria_leaf_spot': 4, 'Tomato___Spider_mites Two-spotted_spider_mite': 5, 'Tomato___Target_Spot': 6, 'Tomato___Tomato_Yellow_Leaf_Curl_Virus': 7, 'Tomato___Tomato_mosaic_virus': 8, 'Tomato___healthy': 9}\n"
     ]
    }
   ],
   "source": [
    "label_map = (training_set.class_indices)\n",
    "\n",
    "print(label_map)"
   ]
  },
  {
   "cell_type": "code",
   "execution_count": 90,
   "metadata": {
    "colab": {
     "base_uri": "https://localhost:8080/"
    },
    "executionInfo": {
     "elapsed": 4616,
     "status": "ok",
     "timestamp": 1636779892238,
     "user": {
      "displayName": "Akshita Saxena",
      "photoUrl": "https://lh3.googleusercontent.com/a-/AOh14Gi19hR8jFQzzcsPCpC1DBmN63S4HcJsr7ye-9A=s64",
      "userId": "02141134520636945112"
     },
     "user_tz": -330
    },
    "id": "Rleowegqp3Rr",
    "outputId": "3b07fa6c-b15d-4a2a-9b5e-55a90703f49a"
   },
   "outputs": [
    {
     "name": "stdout",
     "output_type": "stream",
     "text": [
      "Found 4585 images belonging to 10 classes.\n"
     ]
    }
   ],
   "source": [
    "test_datagen = ImageDataGenerator(rescale=1./255)\n",
    "test_set = test_datagen.flow_from_directory(r'C:\\Users\\Akshay\\Downloads\\Tomato_data\\New Plant Diseases Dataset(Augmented)\\valid', \n",
    "                                                target_size = (64,64),\n",
    "                                                batch_size = 128,\n",
    "                                                class_mode = 'categorical')"
   ]
  },
  {
   "cell_type": "markdown",
   "metadata": {
    "id": "2R2HeGXiyetu"
   },
   "source": [
    "### 3. Build the CNN"
   ]
  },
  {
   "cell_type": "code",
   "execution_count": 91,
   "metadata": {
    "id": "xRR-MY1xtFIg"
   },
   "outputs": [],
   "source": [
    "cnn = tf.keras.models.Sequential()"
   ]
  },
  {
   "cell_type": "code",
   "execution_count": 92,
   "metadata": {
    "id": "m-cMAO-lyrQ5"
   },
   "outputs": [],
   "source": [
    "cnn.add(tf.keras.layers.Conv2D(32,(3,3), input_shape=(64,64,3), activation='relu'))\n",
    "cnn.add(tf.keras.layers.MaxPooling2D(pool_size=(2,2)))\n",
    "cnn.add(tf.keras.layers.Dropout(0.2))"
   ]
  },
  {
   "cell_type": "code",
   "execution_count": 93,
   "metadata": {
    "id": "RedUZ90kzVh6"
   },
   "outputs": [],
   "source": [
    "cnn.add(tf.keras.layers.Conv2D(64,(3,3), activation='relu'))\n",
    "cnn.add(tf.keras.layers.MaxPooling2D(pool_size=(2,2)))\n",
    "cnn.add(tf.keras.layers.Dropout(0.2))"
   ]
  },
  {
   "cell_type": "code",
   "execution_count": 94,
   "metadata": {
    "id": "0Efai4uWzmpz"
   },
   "outputs": [],
   "source": [
    "cnn.add(tf.keras.layers.Conv2D(128,(3,3), activation='relu'))\n",
    "cnn.add(tf.keras.layers.MaxPooling2D(pool_size=(2,2)))\n",
    "cnn.add(tf.keras.layers.Dropout(0.4))"
   ]
  },
  {
   "cell_type": "code",
   "execution_count": 95,
   "metadata": {},
   "outputs": [],
   "source": [
    "cnn.add(tf.keras.layers.Flatten())"
   ]
  },
  {
   "cell_type": "code",
   "execution_count": 96,
   "metadata": {},
   "outputs": [],
   "source": [
    "cnn.add(tf.keras.layers.Dense(activation='relu', units=128))\n",
    "cnn.add(tf.keras.layers.Dense(activation='relu', units=64))\n",
    "cnn.add(tf.keras.layers.Dense(activation='relu', units=64))\n",
    "cnn.add(tf.keras.layers.Dense(activation='softmax', units=10))"
   ]
  },
  {
   "cell_type": "markdown",
   "metadata": {
    "id": "xW9fkcAH0gWL"
   },
   "source": [
    "### Training the CNN\n",
    "### 1. Compile the network and use optimizers and define loss function.\n",
    "### 2. Fit the network using the compiled object on the train data and evaluate on the test data."
   ]
  },
  {
   "cell_type": "code",
   "execution_count": 97,
   "metadata": {
    "id": "qA4xFmbg024s"
   },
   "outputs": [],
   "source": [
    "cnn.compile(optimizer='adam',loss = 'categorical_crossentropy', metrics=['accuracy'])"
   ]
  },
  {
   "cell_type": "code",
   "execution_count": 98,
   "metadata": {},
   "outputs": [
    {
     "name": "stdout",
     "output_type": "stream",
     "text": [
      "Model: \"sequential_2\"\n",
      "_________________________________________________________________\n",
      " Layer (type)                Output Shape              Param #   \n",
      "=================================================================\n",
      " conv2d_6 (Conv2D)           (None, 62, 62, 32)        896       \n",
      "                                                                 \n",
      " max_pooling2d_6 (MaxPooling  (None, 31, 31, 32)       0         \n",
      " 2D)                                                             \n",
      "                                                                 \n",
      " dropout_6 (Dropout)         (None, 31, 31, 32)        0         \n",
      "                                                                 \n",
      " conv2d_7 (Conv2D)           (None, 29, 29, 64)        18496     \n",
      "                                                                 \n",
      " max_pooling2d_7 (MaxPooling  (None, 14, 14, 64)       0         \n",
      " 2D)                                                             \n",
      "                                                                 \n",
      " dropout_7 (Dropout)         (None, 14, 14, 64)        0         \n",
      "                                                                 \n",
      " conv2d_8 (Conv2D)           (None, 12, 12, 128)       73856     \n",
      "                                                                 \n",
      " max_pooling2d_8 (MaxPooling  (None, 6, 6, 128)        0         \n",
      " 2D)                                                             \n",
      "                                                                 \n",
      " dropout_8 (Dropout)         (None, 6, 6, 128)         0         \n",
      "                                                                 \n",
      " flatten_2 (Flatten)         (None, 4608)              0         \n",
      "                                                                 \n",
      " dense_8 (Dense)             (None, 128)               589952    \n",
      "                                                                 \n",
      " dense_9 (Dense)             (None, 64)                8256      \n",
      "                                                                 \n",
      " dense_10 (Dense)            (None, 64)                4160      \n",
      "                                                                 \n",
      " dense_11 (Dense)            (None, 10)                650       \n",
      "                                                                 \n",
      "=================================================================\n",
      "Total params: 696,266\n",
      "Trainable params: 696,266\n",
      "Non-trainable params: 0\n",
      "_________________________________________________________________\n"
     ]
    }
   ],
   "source": [
    "cnn.summary()"
   ]
  },
  {
   "cell_type": "code",
   "execution_count": 99,
   "metadata": {},
   "outputs": [
    {
     "name": "stdout",
     "output_type": "stream",
     "text": [
      "Epoch 1/40\n",
      "144/144 [==============================] - 139s 966ms/step - loss: 1.7967 - accuracy: 0.3383 - val_loss: 1.6046 - val_accuracy: 0.4569\n",
      "Epoch 2/40\n",
      "144/144 [==============================] - 141s 982ms/step - loss: 0.8863 - accuracy: 0.6907 - val_loss: 1.2248 - val_accuracy: 0.5823\n",
      "Epoch 3/40\n",
      "144/144 [==============================] - 142s 989ms/step - loss: 0.6407 - accuracy: 0.7775 - val_loss: 0.7762 - val_accuracy: 0.7365\n",
      "Epoch 4/40\n",
      "144/144 [==============================] - 150s 1s/step - loss: 0.5516 - accuracy: 0.8059 - val_loss: 1.7562 - val_accuracy: 0.5485\n",
      "Epoch 5/40\n",
      "144/144 [==============================] - 146s 1s/step - loss: 0.4856 - accuracy: 0.8298 - val_loss: 0.7727 - val_accuracy: 0.7468\n",
      "Epoch 6/40\n",
      "144/144 [==============================] - 146s 1s/step - loss: 0.4417 - accuracy: 0.8448 - val_loss: 0.5997 - val_accuracy: 0.8011\n",
      "Epoch 7/40\n",
      "144/144 [==============================] - 145s 1s/step - loss: 0.3840 - accuracy: 0.8652 - val_loss: 0.8730 - val_accuracy: 0.7143\n",
      "Epoch 8/40\n",
      "144/144 [==============================] - 146s 1s/step - loss: 0.3589 - accuracy: 0.8712 - val_loss: 0.4535 - val_accuracy: 0.8406\n",
      "Epoch 9/40\n",
      "144/144 [==============================] - 145s 1s/step - loss: 0.3398 - accuracy: 0.8825 - val_loss: 0.3505 - val_accuracy: 0.8752\n",
      "Epoch 10/40\n",
      "144/144 [==============================] - 143s 989ms/step - loss: 0.3273 - accuracy: 0.8828 - val_loss: 0.3977 - val_accuracy: 0.8635\n",
      "Epoch 11/40\n",
      "144/144 [==============================] - 147s 1s/step - loss: 0.2839 - accuracy: 0.9006 - val_loss: 0.5069 - val_accuracy: 0.8369\n",
      "Epoch 12/40\n",
      "144/144 [==============================] - 147s 1s/step - loss: 0.2702 - accuracy: 0.9058 - val_loss: 0.6387 - val_accuracy: 0.8087\n",
      "Epoch 13/40\n",
      "144/144 [==============================] - 148s 1s/step - loss: 0.2556 - accuracy: 0.9088 - val_loss: 0.4037 - val_accuracy: 0.8643\n",
      "Epoch 14/40\n",
      "144/144 [==============================] - 148s 1s/step - loss: 0.2347 - accuracy: 0.9175 - val_loss: 0.3879 - val_accuracy: 0.8724\n",
      "Epoch 15/40\n",
      "144/144 [==============================] - 146s 1s/step - loss: 0.2229 - accuracy: 0.9217 - val_loss: 0.4987 - val_accuracy: 0.8484\n",
      "Epoch 16/40\n",
      "144/144 [==============================] - 148s 1s/step - loss: 0.2290 - accuracy: 0.9186 - val_loss: 0.3648 - val_accuracy: 0.8744\n",
      "Epoch 17/40\n",
      "144/144 [==============================] - 159s 1s/step - loss: 0.2077 - accuracy: 0.9258 - val_loss: 0.3616 - val_accuracy: 0.8761\n",
      "Epoch 18/40\n",
      "144/144 [==============================] - 151s 1s/step - loss: 0.2091 - accuracy: 0.9247 - val_loss: 0.3663 - val_accuracy: 0.8809\n",
      "Epoch 19/40\n",
      "144/144 [==============================] - 169s 1s/step - loss: 0.1991 - accuracy: 0.9295 - val_loss: 0.3779 - val_accuracy: 0.8866\n",
      "Epoch 20/40\n",
      "144/144 [==============================] - 144s 996ms/step - loss: 0.1818 - accuracy: 0.9357 - val_loss: 0.2323 - val_accuracy: 0.9195\n",
      "Epoch 21/40\n",
      "144/144 [==============================] - 155s 1s/step - loss: 0.1767 - accuracy: 0.9365 - val_loss: 0.2647 - val_accuracy: 0.9088\n",
      "Epoch 22/40\n",
      "144/144 [==============================] - 143s 992ms/step - loss: 0.1625 - accuracy: 0.9430 - val_loss: 0.3027 - val_accuracy: 0.8981\n",
      "Epoch 23/40\n",
      "144/144 [==============================] - 134s 932ms/step - loss: 0.1629 - accuracy: 0.9434 - val_loss: 0.3853 - val_accuracy: 0.8820\n",
      "Epoch 24/40\n",
      "144/144 [==============================] - 136s 946ms/step - loss: 0.1528 - accuracy: 0.9436 - val_loss: 0.3377 - val_accuracy: 0.8912\n",
      "Epoch 25/40\n",
      "144/144 [==============================] - 134s 930ms/step - loss: 0.1470 - accuracy: 0.9467 - val_loss: 0.4446 - val_accuracy: 0.8661\n",
      "Epoch 26/40\n",
      "144/144 [==============================] - 138s 961ms/step - loss: 0.1667 - accuracy: 0.9363 - val_loss: 0.2804 - val_accuracy: 0.9106\n",
      "Epoch 27/40\n",
      "144/144 [==============================] - 135s 936ms/step - loss: 0.1372 - accuracy: 0.9496 - val_loss: 0.3741 - val_accuracy: 0.8824\n",
      "Epoch 28/40\n",
      "144/144 [==============================] - 135s 936ms/step - loss: 0.1331 - accuracy: 0.9533 - val_loss: 0.2217 - val_accuracy: 0.9278\n",
      "Epoch 29/40\n",
      "144/144 [==============================] - 134s 931ms/step - loss: 0.1321 - accuracy: 0.9511 - val_loss: 0.2730 - val_accuracy: 0.9088\n",
      "Epoch 30/40\n",
      "144/144 [==============================] - 133s 923ms/step - loss: 0.1327 - accuracy: 0.9519 - val_loss: 0.3236 - val_accuracy: 0.9049\n",
      "Epoch 31/40\n",
      "144/144 [==============================] - 133s 921ms/step - loss: 0.1413 - accuracy: 0.9489 - val_loss: 0.3046 - val_accuracy: 0.8995\n",
      "Epoch 32/40\n",
      "144/144 [==============================] - 130s 903ms/step - loss: 0.1225 - accuracy: 0.9557 - val_loss: 0.4141 - val_accuracy: 0.8776\n",
      "Epoch 33/40\n",
      "144/144 [==============================] - 135s 939ms/step - loss: 0.1277 - accuracy: 0.9531 - val_loss: 0.2523 - val_accuracy: 0.9180\n",
      "Epoch 34/40\n",
      "144/144 [==============================] - 135s 934ms/step - loss: 0.1179 - accuracy: 0.9575 - val_loss: 0.1903 - val_accuracy: 0.9372\n",
      "Epoch 35/40\n",
      "144/144 [==============================] - 135s 938ms/step - loss: 0.1229 - accuracy: 0.9567 - val_loss: 0.1915 - val_accuracy: 0.9350\n",
      "Epoch 36/40\n",
      "144/144 [==============================] - 132s 919ms/step - loss: 0.1132 - accuracy: 0.9592 - val_loss: 0.2655 - val_accuracy: 0.9213\n",
      "Epoch 37/40\n",
      "144/144 [==============================] - 131s 908ms/step - loss: 0.0994 - accuracy: 0.9645 - val_loss: 0.4503 - val_accuracy: 0.8728\n",
      "Epoch 38/40\n",
      "144/144 [==============================] - 135s 939ms/step - loss: 0.1178 - accuracy: 0.9567 - val_loss: 0.1990 - val_accuracy: 0.9363\n",
      "Epoch 39/40\n",
      "144/144 [==============================] - 132s 913ms/step - loss: 0.0941 - accuracy: 0.9683 - val_loss: 0.2160 - val_accuracy: 0.9302\n",
      "Epoch 40/40\n",
      "144/144 [==============================] - 134s 928ms/step - loss: 0.1092 - accuracy: 0.9611 - val_loss: 0.2056 - val_accuracy: 0.9328\n"
     ]
    }
   ],
   "source": [
    "history = cnn.fit(training_set, validation_data = test_set, epochs = 40)"
   ]
  },
  {
   "cell_type": "markdown",
   "metadata": {},
   "source": [
    "### Model Evaluation"
   ]
  },
  {
   "cell_type": "code",
   "execution_count": 100,
   "metadata": {},
   "outputs": [
    {
     "data": {
      "image/png": "[encoded data removed]",
      "text/plain": [
       "<Figure size 432x288 with 1 Axes>"
      ]
     },
     "metadata": {
      "needs_background": "light"
     },
     "output_type": "display_data"
    },
    {
     "data": {
      "image/png": "[encoded data removed]",
      "text/plain": [
       "<Figure size 432x288 with 1 Axes>"
      ]
     },
     "metadata": {
      "needs_background": "light"
     },
     "output_type": "display_data"
    }
   ],
   "source": [
    "import matplotlib.pyplot as plt\n",
    "plt.figure(1)\n",
    "plt.plot(history.history['loss'])\n",
    "plt.plot(history.history['val_loss'])\n",
    "plt.legend(['training','validation'])\n",
    "plt.title('loss')\n",
    "plt.xlabel('epoch')\n",
    "plt.figure(2)\n",
    "plt.plot(history.history['accuracy'])\n",
    "plt.plot(history.history['val_accuracy'])\n",
    "plt.legend(['training','validation'])\n",
    "plt.title('Acurracy')\n",
    "plt.xlabel('epoch')\n",
    "plt.show()\n",
    "#score = cnn.evaluate(test_set,test_datagen, verbose=0)\n",
    "#print('Test Score:',score[0])\n",
    "#print('Test Accuracy:',score[1])"
   ]
  },
  {
   "cell_type": "markdown",
   "metadata": {
    "id": "O4j-TEDR4MHX"
   },
   "source": [
    "### Make a prediction for single image"
   ]
  },
  {
   "cell_type": "code",
   "execution_count": 101,
   "metadata": {},
   "outputs": [],
   "source": [
    "cnn.save('leafDisease.h5')"
   ]
  },
  {
   "cell_type": "code",
   "execution_count": 146,
   "metadata": {},
   "outputs": [],
   "source": [
    "from tensorflow.keras.models import load_model\n",
    "cnn = load_model('leafDisease.h5')"
   ]
  },
  {
   "cell_type": "code",
   "execution_count": 150,
   "metadata": {},
   "outputs": [],
   "source": [
    "import numpy as np\n",
    "from keras.preprocessing import image\n",
    "test_image = image.load_img(r'C:\\Users\\Akshay\\Downloads\\tomato_msc_vir.JPG',\n",
    "                            target_size = (64,64))\n",
    "test_image = image.img_to_array(test_image)\n",
    "test_image = np.expand_dims(test_image, axis = 0)\n",
    "result = cnn.predict(test_image)"
   ]
  },
  {
   "cell_type": "code",
   "execution_count": 151,
   "metadata": {},
   "outputs": [
    {
     "name": "stdout",
     "output_type": "stream",
     "text": [
      "[0. 0. 0. 0. 0. 0. 0. 0. 1. 0.]\n"
     ]
    }
   ],
   "source": [
    "print(result[0])"
   ]
  },
  {
   "cell_type": "code",
   "execution_count": 152,
   "metadata": {
    "id": "BKJNCu8I4PNd"
   },
   "outputs": [
    {
     "name": "stdout",
     "output_type": "stream",
     "text": [
      "Tomato___Tomato_mosaic_virus\n"
     ]
    }
   ],
   "source": [
    "#training_set.class_indices\n",
    "\n",
    "#{'Tomato___Bacterial_spot': 0, 'Tomato___Early_blight': 1, 'Tomato___Late_blight': 2, 'Tomato___Leaf_Mold': 3, \n",
    "# 'Tomato___Septoria_leaf_spot': 4, 'Tomato___Spider_mites Two-spotted_spider_mite': 5, 'Tomato___Target_Spot': 6, \n",
    "# 'Tomato___Tomato_Yellow_Leaf_Curl_Virus': 7, 'Tomato___Tomato_mosaic_virus': 8, 'Tomato___healthy': 9}\n",
    "\n",
    "if result[0][0] == 1.:\n",
    "    prediction = 'Tomato___Bacterial_spot'\n",
    "    print(prediction)\n",
    "elif result[0][1] == 1.:\n",
    "    prediction = 'Tomato___Early_blight'\n",
    "    print(prediction)\n",
    "elif result[0][2] == 1.:\n",
    "    prediction = 'Tomato___Late_blight'\n",
    "    print(prediction)\n",
    "elif result[0][3] == 1.:\n",
    "    prediction = 'Tomato___Leaf_Mold'\n",
    "    print(prediction)\n",
    "elif  result[0][4] == 1.:\n",
    "    prediction = 'Tomato___Septoria_leaf_spot'\n",
    "    print(prediction)\n",
    "elif  result[0][5] == 1.:\n",
    "    prediction = 'Tomato___Spider_mites Two-spotted_spider_mite'\n",
    "    print(prediction)\n",
    "elif result[0][6] == 1.:\n",
    "    prediction = 'Tomato___Target_Spot'\n",
    "    print(prediction)\n",
    "elif result[0][7] == 1.:\n",
    "    prediction = 'Tomato___Tomato_Yellow_Leaf_Curl_Virus'\n",
    "    print(prediction)\n",
    "elif result[0][8] == 1.:\n",
    "    prediction = 'Tomato___Tomato_mosaic_virus'    \n",
    "    print(prediction)\n",
    "else:\n",
    "    prediction = 'Tomato___healthy'\n",
    "    print(prediction)"
   ]
  },
  {
   "cell_type": "code",
   "execution_count": null,
   "metadata": {
    "id": "6hcT55ZzBHp5"
   },
   "outputs": [],
   "source": []
  },
  {
   "cell_type": "code",
   "execution_count": null,
   "metadata": {
    "colab": {
     "base_uri": "https://localhost:8080/"
    },
    "executionInfo": {
     "elapsed": 496,
     "status": "ok",
     "timestamp": 1636785552880,
     "user": {
      "displayName": "Akshita Saxena",
      "photoUrl": "https://lh3.googleusercontent.com/a-/AOh14Gi19hR8jFQzzcsPCpC1DBmN63S4HcJsr7ye-9A=s64",
      "userId": "02141134520636945112"
     },
     "user_tz": -330
    },
    "id": "SDd3doHyBHmR",
    "outputId": "72bd260e-c215-404f-cdf6-b972cb9e99a7"
   },
   "outputs": [],
   "source": []
  },
  {
   "cell_type": "code",
   "execution_count": null,
   "metadata": {
    "colab": {
     "base_uri": "https://localhost:8080/",
     "height": 489
    },
    "executionInfo": {
     "elapsed": 2403,
     "status": "ok",
     "timestamp": 1636786176372,
     "user": {
      "displayName": "Akshita Saxena",
      "photoUrl": "https://lh3.googleusercontent.com/a-/AOh14Gi19hR8jFQzzcsPCpC1DBmN63S4HcJsr7ye-9A=s64",
      "userId": "02141134520636945112"
     },
     "user_tz": -330
    },
    "id": "GxoXfdnw_V4w",
    "outputId": "e1126d36-2f07-46e9-fdaa-9d718d303ee9"
   },
   "outputs": [],
   "source": []
  },
  {
   "cell_type": "code",
   "execution_count": null,
   "metadata": {},
   "outputs": [],
   "source": []
  },
  {
   "cell_type": "code",
   "execution_count": null,
   "metadata": {
    "scrolled": true
   },
   "outputs": [],
   "source": []
  },
  {
   "cell_type": "code",
   "execution_count": null,
   "metadata": {},
   "outputs": [],
   "source": []
  },
  {
   "cell_type": "code",
   "execution_count": null,
   "metadata": {},
   "outputs": [],
   "source": []
  }
 ],
 "metadata": {
  "colab": {
   "authorship_tag": "ABX9TyN46Etsp+bJ2yjb1l8kAGiD",
   "collapsed_sections": [],
   "mount_file_id": "1xAmFhVWLoVyKApxb4b93_08EYEq9haN4",
   "name": "tomato.ipynb",
   "provenance": [
    {
     "file_id": "1xAmFhVWLoVyKApxb4b93_08EYEq9haN4",
     "timestamp": 1636880633200
    }
   ]
  },
  "kernelspec": {
   "display_name": "Python 3",
   "language": "python",
   "name": "python3"
  },
  "language_info": {
   "codemirror_mode": {
    "name": "ipython",
    "version": 3
   },
   "file_extension": ".py",
   "mimetype": "text/x-python",
   "name": "python",
   "nbconvert_exporter": "python",
   "pygments_lexer": "ipython3",
   "version": "3.8.8"
  }
 },
 "nbformat": 4,
 "nbformat_minor": 1
}
